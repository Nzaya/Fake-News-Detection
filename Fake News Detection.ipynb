+*In[11]:*+
[source, ipython3]
----
# Load necessary libraries

import pandas as pd
import numpy as np
import itertools
from sklearn.model_selection import train_test_split
from sklearn.feature_extraction.text import TfidfVectorizer
from sklearn.linear_model import PassiveAggressiveClassifier
from sklearn.metrics import accuracy_score, confusion_matrix
----


+*In[3]:*+
[source, ipython3]
----
# load the news dataset

news = pd.read_csv('Documents/news/news.csv')
news.head()
----


+*Out[3]:*+
----
[cols=",,,,",options="header",]
|=======================================================================
| |Unnamed: 0 |title |text |label
|0 |8476 |You Can Smell Hillary’s Fear |Daniel Greenfield, a Shillman
Journalism Fello... |FAKE

|1 |10294 |Watch The Exact Moment Paul Ryan Committed Pol... |Google
Pinterest Digg Linkedin Reddit Stumbleu... |FAKE

|2 |3608 |Kerry to go to Paris in gesture of sympathy |U.S. Secretary of
State John F. Kerry said Mon... |REAL

|3 |10142 |Bernie supporters on Twitter erupt in anger ag... |— Kaydee
King (@KaydeeKing) November 9, 2016 T... |FAKE

|4 |875 |The Battle of New York: Why This Primary Matters |It's primary
day in New York and front-runners... |REAL
|=======================================================================
----


+*In[5]:*+
[source, ipython3]
----
# Sahpe of the data

news.shape
----


+*Out[5]:*+
----(6335, 4)----


+*In[6]:*+
[source, ipython3]
----
# Get labels

labels = news.label
labels.head()
----


+*Out[6]:*+
----0    FAKE
1    FAKE
2    REAL
3    FAKE
4    REAL
Name: label, dtype: object----


+*In[8]:*+
[source, ipython3]
----
# Split the dataset into training and testing sets

X_train,X_test,y_train,y_test = train_test_split(news['text'], labels, test_size = 0.2, random_state = 7)
----


+*In[25]:*+
[source, ipython3]
----
# Initialize TfidfVectorizer with stop words.

tfidf_vectorizer = TfidfVectorizer(stop_words = 'english', max_df = 0.7)

#Fit and transform the train and test set

tfidf_train = tfidf_vectorizer.fit_transform(X_train)
tfidf_test = tfidf_vectorizer.transform(X_test)
----


+*In[26]:*+
[source, ipython3]
----
# Initialize a PassiveAggressiveClassifier

pac = PassiveAggressiveClassifier(max_iter = 50)
pac.fit(tfidf_train,y_train)
----


+*Out[26]:*+
----PassiveAggressiveClassifier(C=1.0, average=False, class_weight=None,
                            early_stopping=False, fit_intercept=True,
                            loss='hinge', max_iter=50, n_iter_no_change=5,
                            n_jobs=None, random_state=None, shuffle=True,
                            tol=0.001, validation_fraction=0.1, verbose=0,
                            warm_start=False)----


+*In[27]:*+
[source, ipython3]
----
# Predict on the test set and calculate accuracy

y_pred=pac.predict(tfidf_test)
score=accuracy_score(y_test,y_pred)
print(f'Accuracy: {round(score*100,2)}%')
----


+*Out[27]:*+
----
Accuracy: 92.82%
----


+*In[28]:*+
[source, ipython3]
----
#Build a confusion matrix

confusion_matrix(y_test,y_pred, labels =['FAKE','REAL'])
----


+*Out[28]:*+
----array([[589,  49],
       [ 42, 587]], dtype=int64)----

So with thismodel, we have 589 true positives, 587 true negatives, 42
false positives and 49 false negatives.


+*In[ ]:*+
[source, ipython3]
----

----
